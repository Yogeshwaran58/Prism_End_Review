{
 "cells": [
  {
   "cell_type": "code",
   "execution_count": 1,
   "id": "c3f320a7",
   "metadata": {},
   "outputs": [],
   "source": [
    "import cv2\n",
    "import numpy as np"
   ]
  },
  {
   "cell_type": "code",
   "execution_count": 2,
   "id": "b71dde15",
   "metadata": {},
   "outputs": [],
   "source": [
    "def swap_regions(image_path_1, image_path_2, bbox1, bbox2, save_path_1, save_path_2):\n",
    "    \n",
    "    image1 = cv2.imread(image_path_1)\n",
    "    image2 = cv2.imread(image_path_2)\n",
    "\n",
    "    if image1 is None or image2 is None:\n",
    "        raise ValueError(\"Could not load the image. Check the image path.\")\n",
    "\n",
    "    \n",
    "    region1 = image1[bbox1[1]:bbox1[3], bbox1[0]:bbox1[2]].copy()\n",
    "    region2 = image2[bbox2[1]:bbox2[3], bbox2[0]:bbox2[2]].copy()\n",
    "\n",
    "    \n",
    "    image1[bbox1[1]:bbox1[3], bbox1[0]:bbox1[2]] = region2\n",
    "    image2[bbox2[1]:bbox2[3], bbox2[0]:bbox2[2]] = region1\n",
    "\n",
    "    \n",
    "    cv2.rectangle(image1, bbox1[:2], (bbox1[2], bbox1[3]), (0, 255, 0), 2)\n",
    "    cv2.rectangle(image2, bbox2[:2], (bbox2[2], bbox2[3]), (0, 255, 0), 2)\n",
    "\n",
    "    \n",
    "    cv2.imwrite(save_path_1, image1)\n",
    "    cv2.imwrite(save_path_2, image2)"
   ]
  },
  {
   "cell_type": "code",
   "execution_count": 3,
   "id": "9bc5f61b",
   "metadata": {},
   "outputs": [],
   "source": [
    "swap_regions(\n",
    "    r\"C:\\content\\Image_Patch_Swapping\\4.jpg\",    \n",
    "    r\"C:\\content\\Image_Patch_Swapping\\5.jpg\",\n",
    "    (960, 64, 1064, 192),        \n",
    "    (800, 88, 904, 216),        \n",
    "    r\"C:\\content\\Image_Patch_Swapping\\Swap_1.jpg\",  \n",
    "    r\"C:\\content\\Image_Patch_Swapping\\Swap_2.jpg\"\n",
    ")"
   ]
  }
 ],
 "metadata": {
  "kernelspec": {
   "display_name": "Python 3 (ipykernel)",
   "language": "python",
   "name": "python3"
  },
  "language_info": {
   "codemirror_mode": {
    "name": "ipython",
    "version": 3
   },
   "file_extension": ".py",
   "mimetype": "text/x-python",
   "name": "python",
   "nbconvert_exporter": "python",
   "pygments_lexer": "ipython3",
   "version": "3.11.5"
  }
 },
 "nbformat": 4,
 "nbformat_minor": 5
}
