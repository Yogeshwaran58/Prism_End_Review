{
 "cells": [
  {
   "cell_type": "code",
   "execution_count": 10,
   "id": "187ceea5",
   "metadata": {},
   "outputs": [],
   "source": [
    "import cv2\n",
    "\n",
    "image_path = \"F:\\\\Icon Detection\\\\myvenv\\\\datasets\\\\images\\\\train\\\\2119.jpg\"  \n",
    "image = cv2.imread(image_path)\n",
    "\n",
    "if image is None:\n",
    "    print(\"Error loading image\")\n",
    "else:\n",
    "    coordinates = {\n",
    "    \"object\":[{\"name\":\"add\",\"bndbox\":{\"xmin\":613,\"ymin\":28,\"xmax\":667,\"ymax\":88}},\n",
    "              {\"name\":\"info\",\"bndbox\":{\"xmin\":925,\"ymin\":7,\"xmax\":988,\"ymax\":79}},\n",
    "              {\"name\":\"settings\",\"bndbox\":{\"xmin\":1003,\"ymin\":10,\"xmax\":1081,\"ymax\":88}},\n",
    "              {\"name\":\"add\",\"bndbox\":{\"xmin\":54,\"ymin\":1602,\"xmax\":109,\"ymax\":1638}},\n",
    "              {\"name\":\"close\",\"bndbox\":{\"xmin\":115,\"ymin\":1752,\"xmax\":169,\"ymax\":1788}},\n",
    "              {\"name\":\"arrow forward\",\"bndbox\":{\"xmin\":829,\"ymin\":1674,\"xmax\":913,\"ymax\":1794}},\n",
    "              {\"name\":\"search\",\"bndbox\":{\"xmin\":997,\"ymin\":1581,\"xmax\":1069,\"ymax\":1650}}\n",
    "    ]\n",
    "    }\n",
    "    \n",
    "    for icon in coordinates['object']:\n",
    "        bbox = icon['bndbox']\n",
    "        cv2.rectangle(image, (bbox['xmin'], bbox['ymin']), (bbox['xmax'], bbox['ymax']), (0, 255, 0), 2)\n",
    "\n",
    "    \"C:\\content\\Image_Patch_Swapping\"\n",
    "    output_image_path = 'C:\\\\content\\\\Image_Patch_Swapping\\\\image_with_boxes.jpg'  \n",
    "    cv2.imwrite(output_image_path, image)\n"
   ]
  },
  {
   "cell_type": "code",
   "execution_count": null,
   "id": "74ee5b8a",
   "metadata": {},
   "outputs": [],
   "source": []
  },
  {
   "cell_type": "code",
   "execution_count": null,
   "id": "3bc78cd1",
   "metadata": {},
   "outputs": [],
   "source": []
  }
 ],
 "metadata": {
  "kernelspec": {
   "display_name": "Python 3 (ipykernel)",
   "language": "python",
   "name": "python3"
  },
  "language_info": {
   "codemirror_mode": {
    "name": "ipython",
    "version": 3
   },
   "file_extension": ".py",
   "mimetype": "text/x-python",
   "name": "python",
   "nbconvert_exporter": "python",
   "pygments_lexer": "ipython3",
   "version": "3.11.5"
  }
 },
 "nbformat": 4,
 "nbformat_minor": 5
}
