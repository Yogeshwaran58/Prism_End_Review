{
 "cells": [
  {
   "cell_type": "code",
   "execution_count": null,
   "id": "3868bf9d",
   "metadata": {},
   "outputs": [],
   "source": [
    "import json\n",
    "import os\n",
    "\n",
    "source_dir = r'F:\\prism\\source'  \n",
    "json_dir = r'F:\\prism\\source_json'  \n",
    "\n",
    "def does_overlap(box1, box2):\n",
    "    \"\"\"Check if two bounding boxes overlap.\"\"\"\n",
    "    return not (box1['xmax'] <= box2['xmin'] or box1['xmin'] >= box2['xmax'] or\n",
    "                box1['ymax'] <= box2['ymin'] or box1['ymin'] >= box2['ymax'])\n",
    "\n",
    "def check_for_overlap(json_file):\n",
    "    \"\"\"Check if any icons in a JSON file overlap.\"\"\"\n",
    "    with open(json_file, 'r') as f:\n",
    "        data = json.load(f)\n",
    "        if not data:  \n",
    "            return False\n",
    "        icons = data.get('outputs', {}).get('object', [])\n",
    "        for i, icon1 in enumerate(icons):\n",
    "            for j, icon2 in enumerate(icons):\n",
    "                if i >= j:  \n",
    "                    continue\n",
    "                if does_overlap(icon1.get('bndbox', {}), icon2.get('bndbox', {})):\n",
    "                    return True\n",
    "    return False\n",
    "\n",
    "def delete_overlapping_images():\n",
    "    \"\"\"Delete images and JSONs with overlapping icons based on JSON metadata.\"\"\"\n",
    "    for json_filename in os.listdir(json_dir):\n",
    "        json_path = os.path.join(json_dir, json_filename)\n",
    "        if check_for_overlap(json_path):\n",
    "            \n",
    "            image_filename = json_filename.replace('.json', '.jpg')\n",
    "            image_path = os.path.join(source_dir, image_filename)\n",
    "            if os.path.exists(image_path):\n",
    "                os.remove(image_path)\n",
    "                print(f\"Deleted {image_path} due to overlapping icons.\")\n",
    "            else:\n",
    "                print(f\"Image file {image_path} not found.\")\n",
    "            \n",
    "            os.remove(json_path)\n",
    "            print(f\"Deleted {json_path} due to overlapping icons.\")\n",
    "        else:\n",
    "            print(f\"No overlapping icons found in {json_filename}, or file lacks necessary keys.\")\n",
    "\n",
    "if __name__ == \"__main__\":\n",
    "    delete_overlapping_images()\n"
   ]
  }
 ],
 "metadata": {
  "kernelspec": {
   "display_name": "Python 3 (ipykernel)",
   "language": "python",
   "name": "python3"
  },
  "language_info": {
   "codemirror_mode": {
    "name": "ipython",
    "version": 3
   },
   "file_extension": ".py",
   "mimetype": "text/x-python",
   "name": "python",
   "nbconvert_exporter": "python",
   "pygments_lexer": "ipython3",
   "version": "3.11.5"
  }
 },
 "nbformat": 4,
 "nbformat_minor": 5
}
