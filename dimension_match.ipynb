{
 "cells": [
  {
   "cell_type": "code",
   "execution_count": 1,
   "id": "a73dde10",
   "metadata": {},
   "outputs": [
    {
     "name": "stdout",
     "output_type": "stream",
     "text": [
      "Found images with the desired dimensions (1080x1920):\n",
      "176.jpg\n",
      "image_with_boxes.jpg\n",
      "ROI.jpg\n",
      "ROI_circle.jpg\n"
     ]
    }
   ],
   "source": [
    "import cv2\n",
    "import os\n",
    "\n",
    "image_directory = \"C:\\\\content\\\\Image_Patch_Swapping\"\n",
    "\n",
    "desired_width = 1080\n",
    "desired_height = 1920\n",
    "\n",
    "matching_images = []\n",
    "\n",
    "for filename in os.listdir(image_directory):\n",
    "    if filename.lower().endswith(('.png', '.jpg', '.jpeg')):  \n",
    "        image_path = os.path.join(image_directory, filename)\n",
    "        image = cv2.imread(image_path)\n",
    "\n",
    "        \n",
    "        if image is None:\n",
    "            print(f\"Failed to load image {filename}\")\n",
    "            continue\n",
    "\n",
    "        \n",
    "        height, width = image.shape[:2]\n",
    "        if width == desired_width and height == desired_height:\n",
    "            matching_images.append(filename)\n",
    "\n",
    "if matching_images:\n",
    "    print(\"Found images with the desired dimensions (1080x1920):\")\n",
    "    for img in matching_images:\n",
    "        print(img)\n",
    "else:\n",
    "    print(\"No images with the desired dimensions were found.\")\n"
   ]
  },
  {
   "cell_type": "code",
   "execution_count": null,
   "id": "dc1fd982",
   "metadata": {},
   "outputs": [],
   "source": []
  }
 ],
 "metadata": {
  "kernelspec": {
   "display_name": "Python 3 (ipykernel)",
   "language": "python",
   "name": "python3"
  },
  "language_info": {
   "codemirror_mode": {
    "name": "ipython",
    "version": 3
   },
   "file_extension": ".py",
   "mimetype": "text/x-python",
   "name": "python",
   "nbconvert_exporter": "python",
   "pygments_lexer": "ipython3",
   "version": "3.11.5"
  }
 },
 "nbformat": 4,
 "nbformat_minor": 5
}
