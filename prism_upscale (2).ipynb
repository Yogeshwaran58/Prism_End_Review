{
 "cells": [
  {
   "cell_type": "code",
   "execution_count": 8,
   "metadata": {
    "colab": {
     "base_uri": "https://localhost:8080/"
    },
    "executionInfo": {
     "elapsed": 1317,
     "status": "ok",
     "timestamp": 1701862564402,
     "user": {
      "displayName": "Devadarsan. A.M",
      "userId": "06881006032267250894"
     },
     "user_tz": -330
    },
    "id": "3ACiLerE4Zi6",
    "outputId": "1cd266da-fc81-4460-8351-99874246c030"
   },
   "outputs": [
    {
     "name": "stdout",
     "output_type": "stream",
     "text": [
      "Processed and saved: gan1.png\n",
      "Processed and saved: gan2.png\n"
     ]
    }
   ],
   "source": [
    "from google.colab import drive\n",
    "import cv2\n",
    "import os\n",
    "\n",
    "source_folder = '/content/drive/My Drive/Images'  \n",
    "target_folder = '/content/drive/My Drive/ResizedImages'  \n",
    "\n",
    "if not os.path.exists(target_folder):\n",
    "    os.makedirs(target_folder)\n",
    "uwidth, uheight = 1024, 1024\n",
    "\n",
    "for filename in os.listdir(source_folder):\n",
    "    if filename.lower().endswith(('.png', '.jpg', '.jpeg')):  \n",
    "        image_path = os.path.join(source_folder, filename)\n",
    "        image = cv2.imread(image_path)\n",
    "\n",
    "        resized_image = cv2.resize(image, (uwidth, uheight), interpolation=cv2.INTER_LINEAR)\n",
    "        \n",
    "        target_path = os.path.join(target_folder, filename)\n",
    "        cv2.imwrite(target_path, resized_image)\n",
    "        print(f\"Processed and saved: {filename}\")\n"
   ]
  },
  {
   "cell_type": "code",
   "execution_count": 11,
   "metadata": {
    "id": "AqzWjJ6t4cv8"
   },
   "outputs": [
    {
     "name": "stdout",
     "output_type": "stream",
     "text": [
      "Resized image saved at: F:\\Icon Detection\\myvenv\\resized_images\\resized_image.png\n"
     ]
    },
    {
     "ename": "KeyboardInterrupt",
     "evalue": "",
     "output_type": "error",
     "traceback": [
      "\u001b[1;31m---------------------------------------------------------------------------\u001b[0m",
      "\u001b[1;31mKeyboardInterrupt\u001b[0m                         Traceback (most recent call last)",
      "\u001b[1;32m~\\AppData\\Local\\Temp\\ipykernel_17540\\3902388245.py\u001b[0m in \u001b[0;36m<module>\u001b[1;34m\u001b[0m\n\u001b[0;32m     26\u001b[0m     \u001b[0mcv2\u001b[0m\u001b[1;33m.\u001b[0m\u001b[0mimshow\u001b[0m\u001b[1;33m(\u001b[0m\u001b[1;34m'Original Image'\u001b[0m\u001b[1;33m,\u001b[0m \u001b[0mimage\u001b[0m\u001b[1;33m)\u001b[0m\u001b[1;33m\u001b[0m\u001b[1;33m\u001b[0m\u001b[0m\n\u001b[0;32m     27\u001b[0m     \u001b[0mcv2\u001b[0m\u001b[1;33m.\u001b[0m\u001b[0mimshow\u001b[0m\u001b[1;33m(\u001b[0m\u001b[1;34m'Resized Image'\u001b[0m\u001b[1;33m,\u001b[0m \u001b[0muresized\u001b[0m\u001b[1;33m)\u001b[0m\u001b[1;33m\u001b[0m\u001b[1;33m\u001b[0m\u001b[0m\n\u001b[1;32m---> 28\u001b[1;33m     \u001b[0mcv2\u001b[0m\u001b[1;33m.\u001b[0m\u001b[0mwaitKey\u001b[0m\u001b[1;33m(\u001b[0m\u001b[1;36m0\u001b[0m\u001b[1;33m)\u001b[0m  \u001b[1;31m# Wait for a key press to close the windows\u001b[0m\u001b[1;33m\u001b[0m\u001b[1;33m\u001b[0m\u001b[0m\n\u001b[0m\u001b[0;32m     29\u001b[0m \u001b[1;33m\u001b[0m\u001b[0m\n\u001b[0;32m     30\u001b[0m     \u001b[0mcv2\u001b[0m\u001b[1;33m.\u001b[0m\u001b[0mdestroyAllWindows\u001b[0m\u001b[1;33m(\u001b[0m\u001b[1;33m)\u001b[0m  \u001b[1;31m# Close all OpenCV windows\u001b[0m\u001b[1;33m\u001b[0m\u001b[1;33m\u001b[0m\u001b[0m\n",
      "\u001b[1;31mKeyboardInterrupt\u001b[0m: "
     ]
    }
   ],
   "source": [
    "import cv2\n",
    "import numpy as np\n",
    "\n",
    "image_path = r\"F:\\Icon Detection\\myvenv\\sp_images\\image_row14_col23.png\"\n",
    "image = cv2.imread(image_path)\n",
    "\n",
    "if image is not None:\n",
    "    uwidth = 1024\n",
    "    uheight = 1024\n",
    "    upoints = (uwidth, uheight)\n",
    "\n",
    "    uresized = cv2.resize(image, upoints, interpolation=cv2.INTER_LINEAR)\n",
    "    \n",
    "    save_path = r\"F:\\Icon Detection\\myvenv\\resized_images\\resized_image.png\"\n",
    "\n",
    "    cv2.imwrite(save_path, uresized)\n",
    "    print(f\"Resized image saved at: {save_path}\")\n",
    "    \n",
    "    cv2.imshow('Original Image', image)\n",
    "    cv2.imshow('Resized Image', uresized)\n",
    "    cv2.waitKey(0)  \n",
    "\n",
    "    cv2.destroyAllWindows()  \n",
    "else:\n",
    "    print(\"Error: Image not found or unable to load.\")\n"
   ]
  },
  {
   "cell_type": "code",
   "execution_count": null,
   "metadata": {},
   "outputs": [],
   "source": []
  }
 ],
 "metadata": {
  "accelerator": "GPU",
  "colab": {
   "authorship_tag": "ABX9TyOKZ+TRP2fLSeCC02pMAHsc",
   "gpuType": "T4",
   "mount_file_id": "122woli19vg1WFoV7Yzsz-8Vk6S9YU6z9",
   "provenance": []
  },
  "kernelspec": {
   "display_name": "Python 3 (ipykernel)",
   "language": "python",
   "name": "python3"
  },
  "language_info": {
   "codemirror_mode": {
    "name": "ipython",
    "version": 3
   },
   "file_extension": ".py",
   "mimetype": "text/x-python",
   "name": "python",
   "nbconvert_exporter": "python",
   "pygments_lexer": "ipython3",
   "version": "3.11.5"
  }
 },
 "nbformat": 4,
 "nbformat_minor": 1
}
